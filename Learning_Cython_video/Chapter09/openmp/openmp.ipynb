{
 "cells": [
  {
   "cell_type": "code",
   "execution_count": 1,
   "metadata": {
    "collapsed": false
   },
   "outputs": [],
   "source": [
    "%load_ext cython\n",
    "import numpy as np"
   ]
  },
  {
   "cell_type": "markdown",
   "metadata": {},
   "source": [
    "## Mac OS X: `clang` does not support `openmp`"
   ]
  },
  {
   "cell_type": "markdown",
   "metadata": {},
   "source": [
    " - You have to use GCC\n",
    " - install from homebrew"
   ]
  },
  {
   "cell_type": "code",
   "execution_count": 2,
   "metadata": {
    "collapsed": false
   },
   "outputs": [
    {
     "name": "stdout",
     "output_type": "stream",
     "text": [
      "gcc 6.3.0\r\n"
     ]
    }
   ],
   "source": [
    "!brew ls --versions gcc"
   ]
  },
  {
   "cell_type": "markdown",
   "metadata": {},
   "source": [
    "**The `gcc` command maps back to clang. The \"real\" GCC is different:**\n",
    "\n",
    "Let's find all executables beginning with \"gcc\":"
   ]
  },
  {
   "cell_type": "code",
   "execution_count": 3,
   "metadata": {
    "collapsed": false
   },
   "outputs": [
    {
     "name": "stdout",
     "output_type": "stream",
     "text": [
      "gcc\r\n",
      "gcc-6\r\n",
      "gcc-ar-6\r\n",
      "gcc-nm-6\r\n",
      "gcc-ranlib-6\r\n",
      "gcc-6\r\n",
      "gcc-ar-6\r\n",
      "gcc-nm-6\r\n",
      "gcc-ranlib-6\r\n",
      "gcc\r\n"
     ]
    }
   ],
   "source": [
    "!compgen -c | grep ^gcc"
   ]
  },
  {
   "cell_type": "markdown",
   "metadata": {},
   "source": [
    "**My \"real\" GCC command is `gcc-5`**\n",
    "\n",
    "You can switch the compiler by changing the `CC` environment variable:"
   ]
  },
  {
   "cell_type": "code",
   "execution_count": 5,
   "metadata": {
    "collapsed": false
   },
   "outputs": [],
   "source": [
    "import os\n",
    "os.environ['CC'] = 'gcc-6'"
   ]
  },
  {
   "cell_type": "markdown",
   "metadata": {},
   "source": [
    "<div style=\"margin-top: 100px;\"></div>\n",
    "# Compare `range()` and `prange()`"
   ]
  },
  {
   "cell_type": "code",
   "execution_count": 7,
   "metadata": {
    "collapsed": false
   },
   "outputs": [],
   "source": [
    "%%cython -f\n",
    "# distutils: extra_compile_args = -fopenmp\n",
    "# distutils: extra_link_args = -fopenmp\n",
    "# cython: boundscheck = False\n",
    "from libc.math cimport log\n",
    "from cython.parallel cimport prange\n",
    "\n",
    "def f1(double[:] x, double[:] out):\n",
    "    cdef int i, n = x.shape[0]\n",
    "    for i in range(n):\n",
    "        out[i] = log(x[i])\n",
    "        \n",
    "def f2(double[:] x, double[:] out):\n",
    "    cdef int i, n = x.shape[0]\n",
    "    for i in prange(n, nogil=True):\n",
    "        out[i] = log(x[i])"
   ]
  },
  {
   "cell_type": "markdown",
   "metadata": {},
   "source": [
    "## Make some data"
   ]
  },
  {
   "cell_type": "code",
   "execution_count": 8,
   "metadata": {
    "collapsed": false
   },
   "outputs": [],
   "source": [
    "data = np.random.rand(10000000)\n",
    "out = np.zeros_like(data)"
   ]
  },
  {
   "cell_type": "markdown",
   "metadata": {},
   "source": [
    "## Timings"
   ]
  },
  {
   "cell_type": "code",
   "execution_count": 9,
   "metadata": {
    "collapsed": false
   },
   "outputs": [
    {
     "name": "stdout",
     "output_type": "stream",
     "text": [
      "10 loops, best of 3: 90.1 ms per loop\n",
      "10 loops, best of 3: 81.4 ms per loop\n",
      "100 loops, best of 3: 20.2 ms per loop\n"
     ]
    }
   ],
   "source": [
    "%timeit f1(data, out)\n",
    "%timeit np.log(data, out=out)\n",
    "%timeit f2(data, out)"
   ]
  },
  {
   "cell_type": "markdown",
   "metadata": {},
   "source": [
    "# Some things are tricky"
   ]
  },
  {
   "cell_type": "code",
   "execution_count": 10,
   "metadata": {
    "collapsed": false
   },
   "outputs": [
    {
     "name": "stderr",
     "output_type": "stream",
     "text": [
      "\n",
      "Error compiling Cython file:\n",
      "------------------------------------------------------------\n",
      "...\n",
      "    cdef double result = 0\n",
      "    for i in prange(n, nogil=True):\n",
      "        if x[i] > 0.5:\n",
      "            result += log(x[i])\n",
      "        else:\n",
      "            result += 1.0\n",
      "                  ^\n",
      "------------------------------------------------------------\n",
      "\n",
      "/Users/siuser/.ipython/cython/_cython_magic_aeefecf77f3f9e22a3a2881a69a44280.pyx:24:19: local variable 'result' referenced before assignment\n"
     ]
    }
   ],
   "source": [
    "%%cython\n",
    "# distutils: extra_compile_args = -fopenmp\n",
    "# distutils: extra_link_args = -fopenmp\n",
    "# cython: boundscheck = False\n",
    "from libc.math cimport log\n",
    "from cython.parallel cimport prange\n",
    "\n",
    "def f_single(double[:] x):\n",
    "    cdef int i, n = x.shape[0]\n",
    "    cdef double result = 0\n",
    "    for i in range(n):\n",
    "        if x[i] > 0.5:\n",
    "            result += log(x[i])\n",
    "        else:\n",
    "            result += 1.0\n",
    "    return result\n",
    "        \n",
    "def f_parallel(double[:] x):\n",
    "    cdef int i, n = x.shape[0]\n",
    "    cdef double result = 0\n",
    "    for i in prange(n, nogil=True):\n",
    "        if x[i] > 0.5:\n",
    "            result += log(x[i])\n",
    "        else:\n",
    "            result += 1.0\n",
    "    return result\n"
   ]
  },
  {
   "cell_type": "markdown",
   "metadata": {},
   "source": [
    "## Confusing explanation from the Cython docs:"
   ]
  },
  {
   "cell_type": "markdown",
   "metadata": {},
   "source": [
    "> If you assign to a variable in a prange block, it becomes lastprivate, meaning that the variable will contain the value from the last iteration. <u>**If you use an inplace operator on a variable, it becomes a reduction**</u>, meaning that the values from the thread-local copies of the variable will be reduced with the operator and assigned to the original variable **after the loop**. The index variable is always lastprivate. Variables assigned to in a parallel with block will be private and unusable after the block, as there is no concept of a sequentially last value."
   ]
  },
  {
   "cell_type": "markdown",
   "metadata": {},
   "source": [
    "## Solution: need a temporary variable"
   ]
  },
  {
   "cell_type": "code",
   "execution_count": 11,
   "metadata": {
    "collapsed": false
   },
   "outputs": [],
   "source": [
    "%%cython\n",
    "# distutils: extra_compile_args = -fopenmp\n",
    "# distutils: extra_link_args = -fopenmp\n",
    "# cython: boundscheck = False\n",
    "from libc.math cimport log\n",
    "from cython.parallel cimport prange\n",
    "\n",
    "def g_single(double[:] x):\n",
    "    cdef int i, n = x.shape[0]\n",
    "    cdef double result = 0\n",
    "    for i in range(n):\n",
    "        if x[i] > 0.5:\n",
    "            result += log(x[i])\n",
    "        else:\n",
    "            result += 1.0\n",
    "    return result\n",
    "        \n",
    "def g_parallel(double[:] x):\n",
    "    cdef int i, n = x.shape[0]\n",
    "    cdef double tmp, result = 0\n",
    "    for i in prange(n, nogil=True):\n",
    "        if x[i] > 0.5:\n",
    "            tmp = log(x[i])\n",
    "        else:\n",
    "            tmp = 1.0\n",
    "        result += tmp\n",
    "    return result\n"
   ]
  },
  {
   "cell_type": "code",
   "execution_count": 12,
   "metadata": {
    "collapsed": false
   },
   "outputs": [
    {
     "name": "stdout",
     "output_type": "stream",
     "text": [
      "0.4868732156091631\n",
      "0.4868732156091631\n"
     ]
    }
   ],
   "source": [
    "print(g_single(data[:3]))\n",
    "print(g_parallel(data[:3]))"
   ]
  },
  {
   "cell_type": "code",
   "execution_count": 13,
   "metadata": {
    "collapsed": false
   },
   "outputs": [
    {
     "name": "stdout",
     "output_type": "stream",
     "text": [
      "10 loops, best of 3: 93.1 ms per loop\n",
      "100 loops, best of 3: 20.9 ms per loop\n"
     ]
    }
   ],
   "source": [
    "%timeit g_single(data)\n",
    "%timeit g_parallel(data)"
   ]
  },
  {
   "cell_type": "code",
   "execution_count": null,
   "metadata": {
    "collapsed": true
   },
   "outputs": [],
   "source": []
  }
 ],
 "metadata": {
  "anaconda-cloud": {},
  "kernelspec": {
   "display_name": "Python [default]",
   "language": "python",
   "name": "python3"
  },
  "language_info": {
   "codemirror_mode": {
    "name": "ipython",
    "version": 3
   },
   "file_extension": ".py",
   "mimetype": "text/x-python",
   "name": "python",
   "nbconvert_exporter": "python",
   "pygments_lexer": "ipython3",
   "version": "3.5.2"
  }
 },
 "nbformat": 4,
 "nbformat_minor": 0
}
