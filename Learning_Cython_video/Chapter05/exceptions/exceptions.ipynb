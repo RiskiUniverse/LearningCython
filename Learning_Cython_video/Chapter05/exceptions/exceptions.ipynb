{
 "cells": [
  {
   "cell_type": "code",
   "execution_count": 1,
   "metadata": {
    "collapsed": false
   },
   "outputs": [],
   "source": [
    "%load_ext cython"
   ]
  },
  {
   "cell_type": "markdown",
   "metadata": {},
   "source": [
    "# Docstrings"
   ]
  },
  {
   "cell_type": "code",
   "execution_count": 2,
   "metadata": {
    "collapsed": true
   },
   "outputs": [],
   "source": [
    "%%cython\n",
    "\n",
    "cpdef int f(int x):\n",
    "    \"\"\" This function returns the same value. \"\"\"\n",
    "    return x"
   ]
  },
  {
   "cell_type": "code",
   "execution_count": 3,
   "metadata": {
    "collapsed": false
   },
   "outputs": [
    {
     "name": "stdout",
     "output_type": "stream",
     "text": [
      "Help on built-in function f in module _cython_magic_49ec2cbd40c5838f0c90b3ea7a205fdb:\n",
      "\n",
      "f(...)\n",
      "    This function returns the same value.\n",
      "\n"
     ]
    }
   ],
   "source": [
    "help(f)"
   ]
  },
  {
   "cell_type": "code",
   "execution_count": 4,
   "metadata": {
    "collapsed": true
   },
   "outputs": [],
   "source": [
    "def p(x, y, z):\n",
    "    \"\"\" Example of a Python function. \"\"\"\n",
    "    return x"
   ]
  },
  {
   "cell_type": "code",
   "execution_count": 5,
   "metadata": {
    "collapsed": false
   },
   "outputs": [
    {
     "name": "stdout",
     "output_type": "stream",
     "text": [
      "Help on function p in module __main__:\n",
      "\n",
      "p(x, y, z)\n",
      "    Example of a Python function.\n",
      "\n"
     ]
    }
   ],
   "source": [
    "help(p)"
   ]
  },
  {
   "cell_type": "markdown",
   "metadata": {},
   "source": [
    "# Docstring plus call signature"
   ]
  },
  {
   "cell_type": "code",
   "execution_count": 6,
   "metadata": {
    "collapsed": true
   },
   "outputs": [],
   "source": [
    "%%cython\n",
    "cimport cython\n",
    "\n",
    "@cython.embedsignature(True)\n",
    "cpdef int g(int x):\n",
    "    \"\"\" This function also returns the same value. \"\"\"\n",
    "    return x"
   ]
  },
  {
   "cell_type": "code",
   "execution_count": 7,
   "metadata": {
    "collapsed": false
   },
   "outputs": [
    {
     "name": "stdout",
     "output_type": "stream",
     "text": [
      "Help on built-in function g in module _cython_magic_0856fc7883dbba10758a2fcb798448e5:\n",
      "\n",
      "g(...)\n",
      "    g(int x) -> int\n",
      "    This function also returns the same value.\n",
      "\n"
     ]
    }
   ],
   "source": [
    "help(g)"
   ]
  },
  {
   "cell_type": "markdown",
   "metadata": {},
   "source": [
    "## Apply directive to all functions (and classes)"
   ]
  },
  {
   "cell_type": "code",
   "execution_count": 8,
   "metadata": {
    "collapsed": true
   },
   "outputs": [],
   "source": [
    "%%cython\n",
    "# cython: embedsignature=True\n",
    "\n",
    "def h1(int x):\n",
    "    \"\"\" This function also returns the same value. \"\"\"\n",
    "    return x\n",
    "\n",
    "cpdef int h2(int x):\n",
    "    \"\"\" This function doubles the argument. \"\"\"\n",
    "    return x * 2"
   ]
  },
  {
   "cell_type": "code",
   "execution_count": 9,
   "metadata": {
    "collapsed": false
   },
   "outputs": [
    {
     "name": "stdout",
     "output_type": "stream",
     "text": [
      "Help on built-in function h1 in module _cython_magic_30401f86a3b73e48f5863237940697ca:\n",
      "\n",
      "h1(...)\n",
      "    h1(int x)\n",
      "    This function also returns the same value.\n",
      "\n",
      "Help on built-in function h2 in module _cython_magic_30401f86a3b73e48f5863237940697ca:\n",
      "\n",
      "h2(...)\n",
      "    h2(int x) -> int\n",
      "    This function doubles the argument.\n",
      "\n"
     ]
    }
   ],
   "source": [
    "help(h1)\n",
    "help(h2)"
   ]
  },
  {
   "cell_type": "markdown",
   "metadata": {},
   "source": [
    "# Returning exceptions"
   ]
  },
  {
   "cell_type": "markdown",
   "metadata": {},
   "source": [
    "## Dangerous function: plain Python"
   ]
  },
  {
   "cell_type": "code",
   "execution_count": 10,
   "metadata": {
    "collapsed": true
   },
   "outputs": [],
   "source": [
    "def plain_invert(x):\n",
    "    return 1/x"
   ]
  },
  {
   "cell_type": "code",
   "execution_count": 11,
   "metadata": {
    "collapsed": false
   },
   "outputs": [
    {
     "ename": "ZeroDivisionError",
     "evalue": "division by zero",
     "output_type": "error",
     "traceback": [
      "\u001b[0;31m---------------------------------------------------------------------------\u001b[0m",
      "\u001b[0;31mZeroDivisionError\u001b[0m                         Traceback (most recent call last)",
      "\u001b[0;32m<ipython-input-11-67b97b1bc9e8>\u001b[0m in \u001b[0;36m<module>\u001b[0;34m()\u001b[0m\n\u001b[0;32m----> 1\u001b[0;31m \u001b[0mplain_invert\u001b[0m\u001b[0;34m(\u001b[0m\u001b[0;36m0\u001b[0m\u001b[0;34m)\u001b[0m\u001b[0;34m\u001b[0m\u001b[0m\n\u001b[0m",
      "\u001b[0;32m<ipython-input-10-065b0f69fa04>\u001b[0m in \u001b[0;36mplain_invert\u001b[0;34m(x)\u001b[0m\n\u001b[1;32m      1\u001b[0m \u001b[0;32mdef\u001b[0m \u001b[0mplain_invert\u001b[0m\u001b[0;34m(\u001b[0m\u001b[0mx\u001b[0m\u001b[0;34m)\u001b[0m\u001b[0;34m:\u001b[0m\u001b[0;34m\u001b[0m\u001b[0m\n\u001b[0;32m----> 2\u001b[0;31m     \u001b[0;32mreturn\u001b[0m \u001b[0;36m1\u001b[0m\u001b[0;34m/\u001b[0m\u001b[0mx\u001b[0m\u001b[0;34m\u001b[0m\u001b[0m\n\u001b[0m",
      "\u001b[0;31mZeroDivisionError\u001b[0m: division by zero"
     ]
    }
   ],
   "source": [
    "plain_invert(0)"
   ]
  },
  {
   "cell_type": "markdown",
   "metadata": {},
   "source": [
    "## Dangerous function: Cython"
   ]
  },
  {
   "cell_type": "code",
   "execution_count": 12,
   "metadata": {
    "collapsed": false
   },
   "outputs": [],
   "source": [
    "%%cython\n",
    "\n",
    "cdef double invert(int x):\n",
    "    cdef double a = 1 / x\n",
    "    return a\n",
    "\n",
    "def pyinvert(x):\n",
    "    return invert(0)"
   ]
  },
  {
   "cell_type": "code",
   "execution_count": 13,
   "metadata": {
    "collapsed": false
   },
   "outputs": [
    {
     "name": "stderr",
     "output_type": "stream",
     "text": [
      "Exception ignored in: '_cython_magic_ca36a810aeee3b13cf01b3b229deba33.invert'\n",
      "ZeroDivisionError: float division\n"
     ]
    },
    {
     "data": {
      "text/plain": [
       "0.0"
      ]
     },
     "execution_count": 13,
     "metadata": {},
     "output_type": "execute_result"
    }
   ],
   "source": [
    "pyinvert(0)"
   ]
  },
  {
   "cell_type": "markdown",
   "metadata": {},
   "source": [
    "### Cython solution"
   ]
  },
  {
   "cell_type": "code",
   "execution_count": 14,
   "metadata": {
    "collapsed": true
   },
   "outputs": [],
   "source": [
    "%%cython\n",
    "\n",
    "cdef double invert(int x) except -1:\n",
    "    cdef double a \n",
    "    a = 1 / x\n",
    "    return a\n",
    "\n",
    "def pyinvert(x):\n",
    "    return invert(0)"
   ]
  },
  {
   "cell_type": "code",
   "execution_count": 15,
   "metadata": {
    "collapsed": false
   },
   "outputs": [
    {
     "ename": "ZeroDivisionError",
     "evalue": "float division",
     "output_type": "error",
     "traceback": [
      "\u001b[0;31m---------------------------------------------------------------------------\u001b[0m",
      "\u001b[0;31mZeroDivisionError\u001b[0m                         Traceback (most recent call last)",
      "\u001b[0;32m<ipython-input-15-6e7ae8550d51>\u001b[0m in \u001b[0;36m<module>\u001b[0;34m()\u001b[0m\n\u001b[0;32m----> 1\u001b[0;31m \u001b[0mpyinvert\u001b[0m\u001b[0;34m(\u001b[0m\u001b[0;36m0\u001b[0m\u001b[0;34m)\u001b[0m\u001b[0;34m\u001b[0m\u001b[0m\n\u001b[0m",
      "\u001b[0;32m_cython_magic_5962c5ecc058603cc5e178b1876b84c0.pyx\u001b[0m in \u001b[0;36m_cython_magic_5962c5ecc058603cc5e178b1876b84c0.pyinvert (/Users/siuser/.ipython/cython/_cython_magic_5962c5ecc058603cc5e178b1876b84c0.c:848)\u001b[0;34m()\u001b[0m\n",
      "\u001b[0;32m_cython_magic_5962c5ecc058603cc5e178b1876b84c0.pyx\u001b[0m in \u001b[0;36m_cython_magic_5962c5ecc058603cc5e178b1876b84c0.invert (/Users/siuser/.ipython/cython/_cython_magic_5962c5ecc058603cc5e178b1876b84c0.c:784)\u001b[0;34m()\u001b[0m\n",
      "\u001b[0;31mZeroDivisionError\u001b[0m: float division"
     ]
    }
   ],
   "source": [
    "pyinvert(0)"
   ]
  },
  {
   "cell_type": "markdown",
   "metadata": {},
   "source": [
    "## Functions that return *void* (Nothing)"
   ]
  },
  {
   "cell_type": "markdown",
   "metadata": {},
   "source": [
    "You can no longer use \"-1\" or any type as the flag:"
   ]
  },
  {
   "cell_type": "code",
   "execution_count": 16,
   "metadata": {
    "collapsed": false
   },
   "outputs": [
    {
     "name": "stderr",
     "output_type": "stream",
     "text": [
      "\n",
      "Error compiling Cython file:\n",
      "------------------------------------------------------------\n",
      "...\n",
      "\n",
      "cdef void internal_invert(int x) except -1:\n",
      "                                        ^\n",
      "------------------------------------------------------------\n",
      "\n",
      "/Users/siuser/.ipython/cython/_cython_magic_c165f078d02bcff11368852bd76bb71c.pyx:2:41: Cannot assign type 'long' to 'void'\n",
      "\n",
      "Error compiling Cython file:\n",
      "------------------------------------------------------------\n",
      "...\n",
      "\n",
      "cdef void internal_invert(int x) except -1:\n",
      "                                        ^\n",
      "------------------------------------------------------------\n",
      "\n",
      "/Users/siuser/.ipython/cython/_cython_magic_c165f078d02bcff11368852bd76bb71c.pyx:2:41: Exception value incompatible with function return type\n"
     ]
    }
   ],
   "source": [
    "%%cython\n",
    "\n",
    "cdef void internal_invert(int x) except -1:\n",
    "    cdef double a \n",
    "    a = 1 / x\n",
    "    # This function doesn't return anything\n",
    "\n",
    "def pyinvert(x):\n",
    "    internal_invert(0)"
   ]
  },
  {
   "cell_type": "markdown",
   "metadata": {},
   "source": [
    "You must use \"\\*\", which means that a check for an exception will be made on every call:"
   ]
  },
  {
   "cell_type": "code",
   "execution_count": 17,
   "metadata": {
    "collapsed": true
   },
   "outputs": [],
   "source": [
    "%%cython\n",
    "\n",
    "cdef void internal_invert(int x) except *:\n",
    "    cdef double a \n",
    "    a = 1 / x\n",
    "    # This function doesn't return anything\n",
    "\n",
    "def pyinvert(x):\n",
    "    internal_invert(0)"
   ]
  },
  {
   "cell_type": "code",
   "execution_count": 18,
   "metadata": {
    "collapsed": false
   },
   "outputs": [
    {
     "ename": "ZeroDivisionError",
     "evalue": "float division",
     "output_type": "error",
     "traceback": [
      "\u001b[0;31m---------------------------------------------------------------------------\u001b[0m",
      "\u001b[0;31mZeroDivisionError\u001b[0m                         Traceback (most recent call last)",
      "\u001b[0;32m<ipython-input-18-6e7ae8550d51>\u001b[0m in \u001b[0;36m<module>\u001b[0;34m()\u001b[0m\n\u001b[0;32m----> 1\u001b[0;31m \u001b[0mpyinvert\u001b[0m\u001b[0;34m(\u001b[0m\u001b[0;36m0\u001b[0m\u001b[0;34m)\u001b[0m\u001b[0;34m\u001b[0m\u001b[0m\n\u001b[0m",
      "\u001b[0;32m_cython_magic_009fa5794d25f7ab27543b69720afef6.pyx\u001b[0m in \u001b[0;36m_cython_magic_009fa5794d25f7ab27543b69720afef6.pyinvert (/Users/siuser/.ipython/cython/_cython_magic_009fa5794d25f7ab27543b69720afef6.c:833)\u001b[0;34m()\u001b[0m\n",
      "\u001b[0;32m_cython_magic_009fa5794d25f7ab27543b69720afef6.pyx\u001b[0m in \u001b[0;36m_cython_magic_009fa5794d25f7ab27543b69720afef6.internal_invert (/Users/siuser/.ipython/cython/_cython_magic_009fa5794d25f7ab27543b69720afef6.c:783)\u001b[0;34m()\u001b[0m\n",
      "\u001b[0;31mZeroDivisionError\u001b[0m: float division"
     ]
    }
   ],
   "source": [
    "pyinvert(0)"
   ]
  },
  {
   "cell_type": "code",
   "execution_count": null,
   "metadata": {
    "collapsed": true
   },
   "outputs": [],
   "source": []
  }
 ],
 "metadata": {
  "anaconda-cloud": {},
  "kernelspec": {
   "display_name": "Python [default]",
   "language": "python",
   "name": "python3"
  },
  "language_info": {
   "codemirror_mode": {
    "name": "ipython",
    "version": 3
   },
   "file_extension": ".py",
   "mimetype": "text/x-python",
   "name": "python",
   "nbconvert_exporter": "python",
   "pygments_lexer": "ipython3",
   "version": "3.5.2"
  }
 },
 "nbformat": 4,
 "nbformat_minor": 0
}
