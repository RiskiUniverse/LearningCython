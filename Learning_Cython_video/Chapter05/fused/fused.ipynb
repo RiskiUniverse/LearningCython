{
 "cells": [
  {
   "cell_type": "code",
   "execution_count": 1,
   "metadata": {
    "collapsed": false
   },
   "outputs": [
    {
     "name": "stderr",
     "output_type": "stream",
     "text": [
      "/Users/toddleonhardt/anaconda/lib/python3.5/site-packages/Cython/Distutils/old_build_ext.py:30: UserWarning: Cython.Distutils.old_build_ext does not properly handle dependencies and is deprecated.\n",
      "  \"Cython.Distutils.old_build_ext does not properly handle dependencies \"\n"
     ]
    }
   ],
   "source": [
    "%load_ext cython"
   ]
  },
  {
   "cell_type": "code",
   "execution_count": 2,
   "metadata": {
    "collapsed": true
   },
   "outputs": [],
   "source": [
    "%%cython\n",
    "\n",
    "cimport cython\n",
    "\n",
    "ctypedef fused char_or_float:\n",
    "    cython.char\n",
    "    cython.float\n",
    "\n",
    "\n",
    "cpdef char_or_float plus_one(char_or_float var):\n",
    "    return var + 1\n",
    "\n",
    "\n",
    "def show_me():\n",
    "    cdef:\n",
    "        cython.char a = 127\n",
    "        cython.float b = 127\n",
    "    print('char', plus_one(a))\n",
    "    print('float', plus_one(b))"
   ]
  },
  {
   "cell_type": "code",
   "execution_count": 3,
   "metadata": {
    "collapsed": false
   },
   "outputs": [
    {
     "name": "stdout",
     "output_type": "stream",
     "text": [
      "char -128\n",
      "float 128.0\n"
     ]
    }
   ],
   "source": [
    "show_me()"
   ]
  },
  {
   "cell_type": "code",
   "execution_count": 4,
   "metadata": {
    "collapsed": false
   },
   "outputs": [],
   "source": [
    "%%cython\n",
    "cimport cython\n",
    "\n",
    "ctypedef fused fpnumber:\n",
    "    cython.float\n",
    "    cython.double\n",
    "    cython.longlong\n",
    "\n",
    "cpdef fpnumber f(fpnumber x):\n",
    "    return x + 1\n"
   ]
  },
  {
   "cell_type": "code",
   "execution_count": 5,
   "metadata": {
    "collapsed": false
   },
   "outputs": [
    {
     "data": {
      "text/plain": [
       "1152921504606846976"
      ]
     },
     "execution_count": 5,
     "metadata": {},
     "output_type": "execute_result"
    }
   ],
   "source": [
    "f(2**60-1)"
   ]
  },
  {
   "cell_type": "code",
   "execution_count": 14,
   "metadata": {
    "collapsed": false
   },
   "outputs": [],
   "source": [
    "%%cython\n",
    "\n",
    "cimport cython\n",
    "\n",
    "ctypedef fused fused_type:\n",
    "    short\n",
    "    long\n",
    "    long long\n",
    "\n",
    "cpdef f2(fused_type x):\n",
    "\n",
    "    cdef short* pxs # Different names\n",
    "    cdef long* pxl\n",
    "    cdef long long* pxll\n",
    "\n",
    "    print('test')\n",
    "    if fused_type is short:\n",
    "        pxs = &x\n",
    "        print('short: ', pxs[0])\n",
    "    elif fused_type is long:\n",
    "        pxl = &x\n",
    "        print('long: ', pxl[0])\n",
    "    elif fused_type is cython.longlong:\n",
    "        pxll = &x\n",
    "        print('long long: ',pxll[0])\n",
    "    return 1\n",
    "\n",
    "f2[cython.longlong](128)\n",
    "f2[cython.long](23)\n",
    "f2[cython.short](42)"
   ]
  },
  {
   "cell_type": "code",
   "execution_count": null,
   "metadata": {
    "collapsed": true
   },
   "outputs": [],
   "source": []
  }
 ],
 "metadata": {
  "anaconda-cloud": {},
  "kernelspec": {
   "display_name": "Python [default]",
   "language": "python",
   "name": "python3"
  },
  "language_info": {
   "codemirror_mode": {
    "name": "ipython",
    "version": 3
   },
   "file_extension": ".py",
   "mimetype": "text/x-python",
   "name": "python",
   "nbconvert_exporter": "python",
   "pygments_lexer": "ipython3",
   "version": "3.5.2"
  }
 },
 "nbformat": 4,
 "nbformat_minor": 0
}
