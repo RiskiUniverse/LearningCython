{
 "cells": [
  {
   "cell_type": "code",
   "execution_count": 1,
   "metadata": {
    "collapsed": false
   },
   "outputs": [
    {
     "name": "stderr",
     "output_type": "stream",
     "text": [
      "/Users/toddleonhardt/anaconda/lib/python3.5/site-packages/Cython/Distutils/old_build_ext.py:30: UserWarning: Cython.Distutils.old_build_ext does not properly handle dependencies and is deprecated.\n",
      "  \"Cython.Distutils.old_build_ext does not properly handle dependencies \"\n"
     ]
    }
   ],
   "source": [
    "%load_ext cython"
   ]
  },
  {
   "cell_type": "markdown",
   "metadata": {},
   "source": [
    "# Dynamic arrays: allocate memory"
   ]
  },
  {
   "cell_type": "code",
   "execution_count": 2,
   "metadata": {
    "collapsed": false
   },
   "outputs": [
    {
     "name": "stdout",
     "output_type": "stream",
     "text": [
      "Python array item size: 4 bytes\n",
      "Numpy array item size : 4 bytes\n"
     ]
    }
   ],
   "source": [
    "n = 1000000\n",
    "\n",
    "# Built-in Python arrays\n",
    "\n",
    "from array import array\n",
    "x_python = array('i', [0]*n)  # \"i\" means a C signed int\n",
    "print('Python array item size: {} bytes'.format(x_python.itemsize))\n",
    "\n",
    "# Numpy array\n",
    "\n",
    "import numpy\n",
    "x_numpy = numpy.zeros(n, dtype=numpy.intc)\n",
    "print('Numpy array item size : {} bytes'.format(x_numpy.itemsize))"
   ]
  },
  {
   "cell_type": "markdown",
   "metadata": {},
   "source": [
    "# Accept either via memory view"
   ]
  },
  {
   "cell_type": "code",
   "execution_count": 3,
   "metadata": {
    "collapsed": false
   },
   "outputs": [],
   "source": [
    "%%cython\n",
    "# cython: language_level=3\n",
    "\n",
    "cpdef memviewprops(int[:] x):\n",
    "    print('{:10}:{}'.format('shape',x.shape))\n",
    "    print('{:10}:{}'.format('strides', x.strides))\n",
    "    print('{:10}:{}'.format('suboffsets', x.suboffsets))\n",
    "    print('{:10}:{}'.format('ndim', x.ndim))\n",
    "    print('{:10}:{}'.format('size', x.size))\n",
    "    print('{:10}:{}'.format('itemsize', x.itemsize))\n",
    "    print('{:10}:{}'.format('nbytes', x.nbytes))"
   ]
  },
  {
   "cell_type": "code",
   "execution_count": 4,
   "metadata": {
    "collapsed": false
   },
   "outputs": [
    {
     "name": "stdout",
     "output_type": "stream",
     "text": [
      "Memory properties from a Python array\n",
      "\n",
      "shape     :[1000000, 0, 0, 0, 0, 0, 0, 0]\n",
      "strides   :[4, 0, 0, 0, 0, 0, 0, 0]\n",
      "suboffsets:[-1, 0, 0, 0, 0, 0, 0, 0]\n",
      "ndim      :1\n",
      "size      :1000000\n",
      "itemsize  :4\n",
      "nbytes    :4000000\n",
      "\n",
      "Memory properties from a Numpy array\n",
      "\n",
      "shape     :[1000000, 0, 0, 0, 0, 0, 0, 0]\n",
      "strides   :[4, 0, 0, 0, 0, 0, 0, 0]\n",
      "suboffsets:[-1, 0, 0, 0, 0, 0, 0, 0]\n",
      "ndim      :1\n",
      "size      :1000000\n",
      "itemsize  :4\n",
      "nbytes    :4000000\n"
     ]
    }
   ],
   "source": [
    "print('Memory properties from a Python array')\n",
    "print()\n",
    "memviewprops(x_python)\n",
    "\n",
    "print()\n",
    "print('Memory properties from a Numpy array')\n",
    "print()\n",
    "memviewprops(x_numpy)"
   ]
  },
  {
   "cell_type": "markdown",
   "metadata": {},
   "source": [
    "# Creating dynamic arrays with Cython itself"
   ]
  },
  {
   "cell_type": "code",
   "execution_count": 5,
   "metadata": {
    "collapsed": true
   },
   "outputs": [],
   "source": [
    "%%cython\n",
    "# cython: language_level=3\n",
    "\n",
    "from cython.view cimport array\n",
    "\n",
    "cdef memviewprops(int[:] x):\n",
    "    print('{:10}:{}'.format('shape',x.shape))\n",
    "    print('{:10}:{}'.format('strides', x.strides))\n",
    "    print('{:10}:{}'.format('suboffsets', x.suboffsets))\n",
    "    print('{:10}:{}'.format('ndim', x.ndim))\n",
    "    print('{:10}:{}'.format('size', x.size))\n",
    "    print('{:10}:{}'.format('itemsize', x.itemsize))\n",
    "    print('{:10}:{}'.format('nbytes', x.nbytes))\n",
    "    return \n",
    "   \n",
    "def cythonviewprops(n):\n",
    "    x_cython = array(shape=(n,), itemsize=sizeof(int), format='i')\n",
    "    memviewprops(x_cython)"
   ]
  },
  {
   "cell_type": "code",
   "execution_count": 6,
   "metadata": {
    "collapsed": false
   },
   "outputs": [
    {
     "name": "stdout",
     "output_type": "stream",
     "text": [
      "shape     :[1000000, 0, 0, 0, 0, 0, 0, 0]\n",
      "strides   :[4, 0, 0, 0, 0, 0, 0, 0]\n",
      "suboffsets:[-1, 0, 0, 0, 0, 0, 0, 0]\n",
      "ndim      :1\n",
      "size      :1000000\n",
      "itemsize  :4\n",
      "nbytes    :4000000\n"
     ]
    }
   ],
   "source": [
    "cythonviewprops(n)"
   ]
  },
  {
   "cell_type": "markdown",
   "metadata": {},
   "source": [
    "# Bonus: memview also works with static C arrays"
   ]
  },
  {
   "cell_type": "code",
   "execution_count": 7,
   "metadata": {
    "collapsed": false
   },
   "outputs": [],
   "source": [
    "%%cython\n",
    "# cython: language_level=3\n",
    "\n",
    "cdef memviewprops(int[:] x):\n",
    "    print('{:10}:{}'.format('shape',x.shape))\n",
    "    print('{:10}:{}'.format('strides', x.strides))\n",
    "    print('{:10}:{}'.format('suboffsets', x.suboffsets))\n",
    "    print('{:10}:{}'.format('ndim', x.ndim))\n",
    "    print('{:10}:{}'.format('size', x.size))\n",
    "    print('{:10}:{}'.format('itemsize', x.itemsize))\n",
    "    print('{:10}:{}'.format('nbytes', x.nbytes))\n",
    "\n",
    "def staticprops(n):\n",
    "    cdef int x_static[1000000]\n",
    "    memviewprops(x_static)"
   ]
  },
  {
   "cell_type": "code",
   "execution_count": 8,
   "metadata": {
    "collapsed": false
   },
   "outputs": [
    {
     "name": "stdout",
     "output_type": "stream",
     "text": [
      "shape     :[1000000, 0, 0, 0, 0, 0, 0, 0]\n",
      "strides   :[4, 0, 0, 0, 0, 0, 0, 0]\n",
      "suboffsets:[-1, 0, 0, 0, 0, 0, 0, 0]\n",
      "ndim      :1\n",
      "size      :1000000\n",
      "itemsize  :4\n",
      "nbytes    :4000000\n"
     ]
    }
   ],
   "source": [
    "staticprops(n)"
   ]
  },
  {
   "cell_type": "markdown",
   "metadata": {},
   "source": [
    "# Memory views work with slices"
   ]
  },
  {
   "cell_type": "code",
   "execution_count": 10,
   "metadata": {
    "collapsed": false
   },
   "outputs": [
    {
     "name": "stdout",
     "output_type": "stream",
     "text": [
      "[[0 0 0 0]\n",
      " [0 0 0 0]\n",
      " [0 0 1 1]\n",
      " [0 0 1 1]]\n"
     ]
    }
   ],
   "source": [
    "%%cython\n",
    "\n",
    "cdef f(int[:,:] view, int num):\n",
    "    view[-2:,-2:] = num\n",
    "    \n",
    "def main():\n",
    "    import numpy\n",
    "    x = numpy.zeros(shape=(4, 4), dtype=numpy.intc)\n",
    "    f(x, 1)\n",
    "    print(x)\n",
    "    \n",
    "main()"
   ]
  },
  {
   "cell_type": "markdown",
   "metadata": {},
   "source": [
    "## Slicing makes copying easier"
   ]
  },
  {
   "cell_type": "code",
   "execution_count": 11,
   "metadata": {
    "collapsed": false
   },
   "outputs": [
    {
     "name": "stdout",
     "output_type": "stream",
     "text": [
      "array('d', [0.2922741845358776, 0.060398340834783903, 0.969681628371355])\n"
     ]
    }
   ],
   "source": [
    "%%cython\n",
    "# cython: language_level=3\n",
    "\n",
    "cdef copy(double[:] x, double[:] out):\n",
    "    \" Copy x values into out \"\n",
    "    out[:] = x\n",
    "    \n",
    "def main():\n",
    "    import numpy\n",
    "    import array\n",
    "    # Empty Python array\n",
    "    py_array = array.array('d', [0]) * 3\n",
    "    # Numpy array: random values\n",
    "    npy_array = numpy.random.rand(3) # Random values\n",
    "    # Call function\n",
    "    copy(npy_array, py_array)\n",
    "    print(py_array)\n",
    "    \n",
    "main()"
   ]
  },
  {
   "cell_type": "markdown",
   "metadata": {},
   "source": [
    "# And now for something completely different"
   ]
  },
  {
   "cell_type": "markdown",
   "metadata": {},
   "source": [
    "### Array creation, which is faster?"
   ]
  },
  {
   "cell_type": "code",
   "execution_count": 12,
   "metadata": {
    "collapsed": false
   },
   "outputs": [],
   "source": [
    "def f1(n):\n",
    "    return array('i', [0]*n)  # Big list, then array\n",
    "    \n",
    "def f2(n):\n",
    "    return array('i', [0])*n  # Small list, expand array\n",
    "\n",
    "def f3(n):\n",
    "    return numpy.zeros(n, dtype=numpy.intc)"
   ]
  },
  {
   "cell_type": "code",
   "execution_count": 13,
   "metadata": {
    "collapsed": false
   },
   "outputs": [
    {
     "name": "stdout",
     "output_type": "stream",
     "text": [
      "1 loop, best of 3: 378 ms per loop\n",
      "100 loops, best of 3: 9.72 ms per loop\n",
      "100 loops, best of 3: 7.83 ms per loop\n"
     ]
    }
   ],
   "source": [
    "%timeit f1(10000000)\n",
    "%timeit f2(10000000)\n",
    "%timeit f3(10000000)"
   ]
  },
  {
   "cell_type": "code",
   "execution_count": null,
   "metadata": {
    "collapsed": true
   },
   "outputs": [],
   "source": []
  }
 ],
 "metadata": {
  "kernelspec": {
   "display_name": "Python [default]",
   "language": "python",
   "name": "python3"
  },
  "language_info": {
   "codemirror_mode": {
    "name": "ipython",
    "version": 3
   },
   "file_extension": ".py",
   "mimetype": "text/x-python",
   "name": "python",
   "nbconvert_exporter": "python",
   "pygments_lexer": "ipython3",
   "version": "3.5.2"
  }
 },
 "nbformat": 4,
 "nbformat_minor": 0
}
