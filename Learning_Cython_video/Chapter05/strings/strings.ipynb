{
 "cells": [
  {
   "cell_type": "code",
   "execution_count": 1,
   "metadata": {
    "collapsed": false
   },
   "outputs": [],
   "source": [
    "%load_ext cython"
   ]
  },
  {
   "cell_type": "markdown",
   "metadata": {},
   "source": [
    "# Auto-conversion of strings"
   ]
  },
  {
   "cell_type": "code",
   "execution_count": 2,
   "metadata": {
    "collapsed": true
   },
   "outputs": [],
   "source": [
    "%%cython\n",
    "# cython: language_level=3\n",
    "\n",
    "def f(char* text):\n",
    "    print(text)"
   ]
  },
  {
   "cell_type": "code",
   "execution_count": 3,
   "metadata": {
    "collapsed": false
   },
   "outputs": [
    {
     "ename": "TypeError",
     "evalue": "expected bytes, str found",
     "output_type": "error",
     "traceback": [
      "\u001b[0;31m---------------------------------------------------------------------------\u001b[0m",
      "\u001b[0;31mTypeError\u001b[0m                                 Traceback (most recent call last)",
      "\u001b[0;32m<ipython-input-3-643a100ec88f>\u001b[0m in \u001b[0;36m<module>\u001b[0;34m()\u001b[0m\n\u001b[0;32m----> 1\u001b[0;31m \u001b[0mf\u001b[0m\u001b[0;34m(\u001b[0m\u001b[0;34m'It is I, Arthur, son of Uther Pendragon'\u001b[0m\u001b[0;34m)\u001b[0m\u001b[0;34m\u001b[0m\u001b[0m\n\u001b[0m",
      "\u001b[0;32m_cython_magic_5df60722ac0c014e3de5966c7d110f5d.pyx\u001b[0m in \u001b[0;36m_cython_magic_5df60722ac0c014e3de5966c7d110f5d.f (/Users/siuser/.ipython/cython/_cython_magic_5df60722ac0c014e3de5966c7d110f5d.c:806)\u001b[0;34m()\u001b[0m\n",
      "\u001b[0;31mTypeError\u001b[0m: expected bytes, str found"
     ]
    }
   ],
   "source": [
    "f('It is I, Arthur, son of Uther Pendragon')"
   ]
  },
  {
   "cell_type": "markdown",
   "metadata": {},
   "source": [
    "### Must use bytes!"
   ]
  },
  {
   "cell_type": "code",
   "execution_count": 4,
   "metadata": {
    "collapsed": false
   },
   "outputs": [
    {
     "name": "stdout",
     "output_type": "stream",
     "text": [
      "b'It is I, Arthur, son of Uther Pendragon'\n"
     ]
    }
   ],
   "source": [
    "f(b'It is I, Arthur, son of Uther Pendragon')"
   ]
  },
  {
   "cell_type": "markdown",
   "metadata": {},
   "source": [
    "# Passing Python strings in"
   ]
  },
  {
   "cell_type": "code",
   "execution_count": 9,
   "metadata": {
    "collapsed": true
   },
   "outputs": [],
   "source": [
    "%%cython\n",
    "# cython: language_level=3\n",
    "\n",
    "def g(str text):\n",
    "    print(text)"
   ]
  },
  {
   "cell_type": "code",
   "execution_count": 10,
   "metadata": {
    "collapsed": false
   },
   "outputs": [
    {
     "name": "stdout",
     "output_type": "stream",
     "text": [
      "It is I, Arthur, son of Uther Pendragon\n"
     ]
    }
   ],
   "source": [
    "g('It is I, Arthur, son of Uther Pendragon')"
   ]
  },
  {
   "cell_type": "markdown",
   "metadata": {},
   "source": [
    "# Passing Python strings, working with C strings"
   ]
  },
  {
   "cell_type": "markdown",
   "metadata": {},
   "source": [
    "Assigning Python unicode string to a C string"
   ]
  },
  {
   "cell_type": "code",
   "execution_count": 11,
   "metadata": {
    "collapsed": false
   },
   "outputs": [
    {
     "name": "stderr",
     "output_type": "stream",
     "text": [
      "\n",
      "Error compiling Cython file:\n",
      "------------------------------------------------------------\n",
      "...\n",
      "\n",
      "def f(str text):\n",
      "    cdef char *s\n",
      "    s = text\n",
      "           ^\n",
      "------------------------------------------------------------\n",
      "\n",
      "/Users/siuser/.ipython/cython/_cython_magic_e32ae8706e38c4844fed7603e03bb50e.pyx:4:12: Unicode objects only support coercion to Py_UNICODE*.\n"
     ]
    }
   ],
   "source": [
    "%%cython\n",
    "\n",
    "def f(str text):\n",
    "    cdef char *s\n",
    "    s = text\n",
    "    print(s)\n",
    "    \n",
    "f('What? A swallow carrying a coconut?')"
   ]
  },
  {
   "cell_type": "markdown",
   "metadata": {},
   "source": [
    "Even assign after encode fails..."
   ]
  },
  {
   "cell_type": "code",
   "execution_count": 12,
   "metadata": {
    "collapsed": false
   },
   "outputs": [
    {
     "name": "stderr",
     "output_type": "stream",
     "text": [
      "\n",
      "Error compiling Cython file:\n",
      "------------------------------------------------------------\n",
      "...\n",
      "\n",
      "def f(str text):\n",
      "    cdef char *s\n",
      "    s = text.encode('utf-8')\n",
      "                  ^\n",
      "------------------------------------------------------------\n",
      "\n",
      "/Users/siuser/.ipython/cython/_cython_magic_45a0cff11ee3f0a86a00924d0a9e28fc.pyx:4:19: Storing unsafe C derivative of temporary Python reference\n"
     ]
    }
   ],
   "source": [
    "%%cython\n",
    "\n",
    "def f(str text):\n",
    "    cdef char *s\n",
    "    s = text.encode('utf-8')\n",
    "    print(s)\n",
    "    \n",
    "f('A five ounce bird could not carry a 1 pound coconut.')"
   ]
  },
  {
   "cell_type": "markdown",
   "metadata": {},
   "source": [
    "**You must have a Python unicode string variable**"
   ]
  },
  {
   "cell_type": "code",
   "execution_count": 13,
   "metadata": {
    "collapsed": false
   },
   "outputs": [
    {
     "name": "stdout",
     "output_type": "stream",
     "text": [
      "b'It could be carried by an African swallow!'\n"
     ]
    }
   ],
   "source": [
    "%%cython\n",
    "\n",
    "def f(str text):\n",
    "    cdef char *s\n",
    "    bstr = text.encode('utf-8')\n",
    "    s = bstr\n",
    "    print(s)\n",
    "    \n",
    "f('It could be carried by an African swallow!')"
   ]
  },
  {
   "cell_type": "markdown",
   "metadata": {},
   "source": [
    "# Just use Python strings"
   ]
  },
  {
   "cell_type": "code",
   "execution_count": 14,
   "metadata": {
    "collapsed": false
   },
   "outputs": [],
   "source": [
    "%%cython\n",
    "from libc.string cimport strcat\n",
    "\n",
    "def f1(a, b):\n",
    "    \"\"\" A lot of effort to use strcat \"\"\"\n",
    "    cdef:\n",
    "        char* ca  # Declare C strings\n",
    "        char* cb\n",
    "    pa = a.encode('utf-8')  # Make a bytes object\n",
    "    pb = b.encode('utf-8')\n",
    "    ca = pa  # Assign bytes to the C strings\n",
    "    cb = pb\n",
    "    strcat(ca, cb)  # Call the API method\n",
    "    pout = ca.decode('utf-8')\n",
    "    return pout\n",
    "\n",
    "def f2(a, b):\n",
    "    \"\"\" Python: much easier \"\"\"\n",
    "    return a + b"
   ]
  },
  {
   "cell_type": "code",
   "execution_count": 15,
   "metadata": {
    "collapsed": false
   },
   "outputs": [
    {
     "name": "stdout",
     "output_type": "stream",
     "text": [
      "1000 loops, best of 3: 472 ns per loop\n",
      "1000 loops, best of 3: 135 ns per loop\n"
     ]
    }
   ],
   "source": [
    "%timeit -n 1000 f1('first part', 'second part')\n",
    "%timeit -n 1000 f2('first part', 'second part')"
   ]
  },
  {
   "cell_type": "code",
   "execution_count": null,
   "metadata": {
    "collapsed": true
   },
   "outputs": [],
   "source": []
  }
 ],
 "metadata": {
  "anaconda-cloud": {},
  "kernelspec": {
   "display_name": "Python [default]",
   "language": "python",
   "name": "python3"
  },
  "language_info": {
   "codemirror_mode": {
    "name": "ipython",
    "version": 3
   },
   "file_extension": ".py",
   "mimetype": "text/x-python",
   "name": "python",
   "nbconvert_exporter": "python",
   "pygments_lexer": "ipython3",
   "version": "3.5.2"
  }
 },
 "nbformat": 4,
 "nbformat_minor": 0
}
