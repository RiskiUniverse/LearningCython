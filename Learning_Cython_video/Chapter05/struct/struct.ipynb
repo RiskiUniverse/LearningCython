{
 "cells": [
  {
   "cell_type": "code",
   "execution_count": 1,
   "metadata": {
    "collapsed": false
   },
   "outputs": [],
   "source": [
    "%load_ext cython"
   ]
  },
  {
   "cell_type": "markdown",
   "metadata": {},
   "source": [
    "# Static arrays: pretty simple"
   ]
  },
  {
   "cell_type": "code",
   "execution_count": 2,
   "metadata": {
    "collapsed": false
   },
   "outputs": [],
   "source": [
    "%%cython\n",
    "\n",
    "def f(int x):\n",
    "    cdef int a[10]  # <--- This is a static array\n",
    "    for i in range(10):\n",
    "        a[i] = x\n",
    "    return a"
   ]
  },
  {
   "cell_type": "code",
   "execution_count": 3,
   "metadata": {
    "collapsed": false
   },
   "outputs": [
    {
     "name": "stdout",
     "output_type": "stream",
     "text": [
      "[3, 3, 3, 3, 3, 3, 3, 3, 3, 3]\n"
     ]
    }
   ],
   "source": [
    "output = f(3)\n",
    "print(output)"
   ]
  },
  {
   "cell_type": "code",
   "execution_count": 4,
   "metadata": {
    "collapsed": false
   },
   "outputs": [
    {
     "data": {
      "text/plain": [
       "list"
      ]
     },
     "execution_count": 4,
     "metadata": {},
     "output_type": "execute_result"
    }
   ],
   "source": [
    "type(output)"
   ]
  },
  {
   "cell_type": "markdown",
   "metadata": {},
   "source": [
    "# Structs"
   ]
  },
  {
   "cell_type": "code",
   "execution_count": 5,
   "metadata": {
    "collapsed": true
   },
   "outputs": [],
   "source": [
    "%%cython\n",
    "\n",
    "cdef struct book:\n",
    "    int isbn\n",
    "    int year\n",
    "    \n",
    "def getbook():\n",
    "    cdef book x\n",
    "    x.isbn = 12345\n",
    "    x.year = 2015\n",
    "    return x"
   ]
  },
  {
   "cell_type": "code",
   "execution_count": 6,
   "metadata": {
    "collapsed": false
   },
   "outputs": [
    {
     "name": "stdout",
     "output_type": "stream",
     "text": [
      "{'year': 2015, 'isbn': 12345}\n"
     ]
    }
   ],
   "source": [
    "output = getbook()\n",
    "print(output)"
   ]
  },
  {
   "cell_type": "code",
   "execution_count": 7,
   "metadata": {
    "collapsed": false
   },
   "outputs": [
    {
     "data": {
      "text/plain": [
       "dict"
      ]
     },
     "execution_count": 7,
     "metadata": {},
     "output_type": "execute_result"
    }
   ],
   "source": [
    "type(output)"
   ]
  },
  {
   "cell_type": "markdown",
   "metadata": {},
   "source": [
    "# Arrays of structs"
   ]
  },
  {
   "cell_type": "code",
   "execution_count": 8,
   "metadata": {
    "collapsed": false
   },
   "outputs": [],
   "source": [
    "%%cython\n",
    "\n",
    "cdef struct movie:\n",
    "    char* title\n",
    "    int year\n",
    "        \n",
    "def getmovies():\n",
    "    cdef movie items[2]\n",
    "    \n",
    "    items[0].title = \"Gone with the Wind\"\n",
    "    items[0].year = 1939\n",
    "    \n",
    "    items[1].title = \"Casablanca\"\n",
    "    items[1].year = 1942\n",
    "    \n",
    "    return items"
   ]
  },
  {
   "cell_type": "code",
   "execution_count": 9,
   "metadata": {
    "collapsed": false
   },
   "outputs": [
    {
     "data": {
      "text/plain": [
       "[{'title': b'Gone with the Wind', 'year': 1939},\n",
       " {'title': b'Casablanca', 'year': 1942}]"
      ]
     },
     "execution_count": 9,
     "metadata": {},
     "output_type": "execute_result"
    }
   ],
   "source": [
    "getmovies()"
   ]
  },
  {
   "cell_type": "markdown",
   "metadata": {},
   "source": [
    "# Arrays _and_ Structs _and_ Enums"
   ]
  },
  {
   "cell_type": "code",
   "execution_count": 10,
   "metadata": {
    "collapsed": false
   },
   "outputs": [],
   "source": [
    "%%cython\n",
    "\n",
    "cdef enum Rating:\n",
    "    BAD = 0\n",
    "    SOSO = 1\n",
    "    GOOD = 2\n",
    "    \n",
    "cdef enum Language:\n",
    "    ENGLISH = 0\n",
    "    MANDARIN = 1\n",
    "\n",
    "cdef struct movie:\n",
    "    char* title  # <-- We haven't done strings yet. Coming soon.\n",
    "    int year\n",
    "    Rating rating\n",
    "    Language lang\n",
    "    \n",
    "def getmovies2():\n",
    "    cdef movie items[2]\n",
    "    \n",
    "    items[0].title = \"Gone with the Wind\"\n",
    "    items[0].year = 1939\n",
    "    items[0].rating = GOOD\n",
    "    items[0].lang = ENGLISH\n",
    "    \n",
    "    items[1].title = \"Crouching Tiger, Hidden Dragon\"\n",
    "    items[1].year = 2000\n",
    "    items[1].rating = GOOD\n",
    "    items[1].lang = MANDARIN\n",
    "    \n",
    "    return items"
   ]
  },
  {
   "cell_type": "code",
   "execution_count": 11,
   "metadata": {
    "collapsed": false
   },
   "outputs": [
    {
     "data": {
      "text/plain": [
       "[{'lang': 0, 'rating': 2, 'title': b'Gone with the Wind', 'year': 1939},\n",
       " {'lang': 1,\n",
       "  'rating': 2,\n",
       "  'title': b'Crouching Tiger, Hidden Dragon',\n",
       "  'year': 2000}]"
      ]
     },
     "execution_count": 11,
     "metadata": {},
     "output_type": "execute_result"
    }
   ],
   "source": [
    "getmovies2()"
   ]
  },
  {
   "cell_type": "markdown",
   "metadata": {},
   "source": [
    "# Union"
   ]
  },
  {
   "cell_type": "code",
   "execution_count": 12,
   "metadata": {
    "collapsed": false
   },
   "outputs": [],
   "source": [
    "%%cython\n",
    "# cython: language_level=3\n",
    "\n",
    "cdef union transformer:\n",
    "    # These variables use the same memory block\n",
    "    long long x  # 8 bytes!\n",
    "    double d     # 8 bytes also!\n",
    "    \n",
    "def test():\n",
    "    cdef transformer u\n",
    "    \n",
    "    u.d = 0\n",
    "    print('u.d Before: ', u.d)    \n",
    "    u.x = 123456789\n",
    "    print('u.d After : ', u.d)"
   ]
  },
  {
   "cell_type": "code",
   "execution_count": 13,
   "metadata": {
    "collapsed": false
   },
   "outputs": [
    {
     "name": "stdout",
     "output_type": "stream",
     "text": [
      "u.d Before:  0.0\n",
      "u.d After :  6.0995758e-316\n"
     ]
    }
   ],
   "source": [
    "test()"
   ]
  },
  {
   "cell_type": "code",
   "execution_count": null,
   "metadata": {
    "collapsed": true
   },
   "outputs": [],
   "source": []
  }
 ],
 "metadata": {
  "anaconda-cloud": {},
  "kernelspec": {
   "display_name": "Python [default]",
   "language": "python",
   "name": "python3"
  },
  "language_info": {
   "codemirror_mode": {
    "name": "ipython",
    "version": 3
   },
   "file_extension": ".py",
   "mimetype": "text/x-python",
   "name": "python",
   "nbconvert_exporter": "python",
   "pygments_lexer": "ipython3",
   "version": "3.5.2"
  }
 },
 "nbformat": 4,
 "nbformat_minor": 0
}
