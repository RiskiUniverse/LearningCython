{
 "cells": [
  {
   "cell_type": "code",
   "execution_count": 1,
   "metadata": {
    "collapsed": false
   },
   "outputs": [],
   "source": [
    "%load_ext cython"
   ]
  },
  {
   "cell_type": "markdown",
   "metadata": {},
   "source": [
    "# Properties"
   ]
  },
  {
   "cell_type": "code",
   "execution_count": 2,
   "metadata": {
    "collapsed": false
   },
   "outputs": [],
   "source": [
    "%%cython\n",
    "\n",
    "cdef class A:\n",
    "    \n",
    "    # The Cython way\n",
    "    property cyprop:\n",
    "        def __get__(self):\n",
    "            return 1\n",
    "        \n",
    "    # The Python way\n",
    "    @property\n",
    "    def pyprop(self):\n",
    "        return 2            "
   ]
  },
  {
   "cell_type": "code",
   "execution_count": 3,
   "metadata": {
    "collapsed": false
   },
   "outputs": [
    {
     "name": "stdout",
     "output_type": "stream",
     "text": [
      "1\n",
      "2\n"
     ]
    }
   ],
   "source": [
    "a = A()\n",
    "print(a.cyprop)\n",
    "print(a.pyprop)"
   ]
  },
  {
   "cell_type": "code",
   "execution_count": 4,
   "metadata": {
    "collapsed": false
   },
   "outputs": [
    {
     "name": "stdout",
     "output_type": "stream",
     "text": [
      "10000 loops, best of 3: 53.3 ns per loop\n",
      "10000 loops, best of 3: 46 ns per loop\n"
     ]
    }
   ],
   "source": [
    "%timeit -n 10000 a.cyprop\n",
    "%timeit -n 10000 a.pyprop"
   ]
  },
  {
   "cell_type": "markdown",
   "metadata": {
    "collapsed": true
   },
   "source": [
    "# Iterators"
   ]
  },
  {
   "cell_type": "markdown",
   "metadata": {},
   "source": [
    "### Cython iterator"
   ]
  },
  {
   "cell_type": "code",
   "execution_count": 5,
   "metadata": {
    "collapsed": false
   },
   "outputs": [],
   "source": [
    "%%cython\n",
    "cdef class B:\n",
    "    cdef int i\n",
    "    cdef int _n\n",
    "    def __init__(self, n=10):\n",
    "        self._n = n\n",
    "    def __iter__(self):\n",
    "        self.i = 0\n",
    "        return self\n",
    "    def __next__(self):\n",
    "        self.i += 1\n",
    "        if self.i > self._n:\n",
    "            raise StopIteration\n",
    "        else:\n",
    "            return self.i\n",
    "    property n:\n",
    "        def __get__(self):\n",
    "            return self._n\n",
    "        def __set__(self, x):\n",
    "            self._n = x"
   ]
  },
  {
   "cell_type": "markdown",
   "metadata": {},
   "source": [
    "### Python iterator"
   ]
  },
  {
   "cell_type": "code",
   "execution_count": 6,
   "metadata": {
    "collapsed": true
   },
   "outputs": [],
   "source": [
    "class Bpy:\n",
    "    def __init__(self, n=10):\n",
    "        self.n = n\n",
    "    def __iter__(self):\n",
    "        self.i = 0\n",
    "        return self\n",
    "    def __next__(self):\n",
    "        self.i += 1\n",
    "        if self.i > self.n:\n",
    "            raise StopIteration\n",
    "        else:\n",
    "            return self.i    "
   ]
  },
  {
   "cell_type": "code",
   "execution_count": 7,
   "metadata": {
    "collapsed": false
   },
   "outputs": [
    {
     "name": "stdout",
     "output_type": "stream",
     "text": [
      "12345678910\n",
      "\n",
      "Automatic restarts!\n",
      "\n",
      "12345678910"
     ]
    }
   ],
   "source": [
    "b = B()\n",
    "for x in b:\n",
    "    print(x, end='')\n",
    "print('\\n\\nAutomatic restarts!\\n')\n",
    "for x in b:\n",
    "    print(x, end='')"
   ]
  },
  {
   "cell_type": "code",
   "execution_count": 8,
   "metadata": {
    "collapsed": true
   },
   "outputs": [],
   "source": [
    "bpy = Bpy()"
   ]
  },
  {
   "cell_type": "code",
   "execution_count": 9,
   "metadata": {
    "collapsed": false
   },
   "outputs": [
    {
     "name": "stdout",
     "output_type": "stream",
     "text": [
      "1234567891012345678910"
     ]
    }
   ],
   "source": [
    "for x in bpy:\n",
    "    print(x, end='')\n",
    "for x in bpy:\n",
    "    print(x, end='')"
   ]
  },
  {
   "cell_type": "code",
   "execution_count": 10,
   "metadata": {
    "collapsed": true
   },
   "outputs": [],
   "source": [
    "def cy():\n",
    "    b = B()\n",
    "    b.n = int(1e5)\n",
    "    for i in b:\n",
    "        i+1\n",
    "    "
   ]
  },
  {
   "cell_type": "code",
   "execution_count": 11,
   "metadata": {
    "collapsed": true
   },
   "outputs": [],
   "source": [
    "def py():\n",
    "    b = Bpy()\n",
    "    b.n = int(1e5)\n",
    "    for i in b:\n",
    "        i+1"
   ]
  },
  {
   "cell_type": "code",
   "execution_count": 12,
   "metadata": {
    "collapsed": false
   },
   "outputs": [
    {
     "name": "stdout",
     "output_type": "stream",
     "text": [
      "100 loops, best of 3: 4.99 ms per loop\n",
      "10 loops, best of 3: 40.7 ms per loop\n"
     ]
    }
   ],
   "source": [
    "%timeit cy()\n",
    "%timeit py()"
   ]
  },
  {
   "cell_type": "code",
   "execution_count": null,
   "metadata": {
    "collapsed": true
   },
   "outputs": [],
   "source": []
  }
 ],
 "metadata": {
  "anaconda-cloud": {},
  "kernelspec": {
   "display_name": "Python [default]",
   "language": "python",
   "name": "python3"
  },
  "language_info": {
   "codemirror_mode": {
    "name": "ipython",
    "version": 3
   },
   "file_extension": ".py",
   "mimetype": "text/x-python",
   "name": "python",
   "nbconvert_exporter": "python",
   "pygments_lexer": "ipython3",
   "version": "3.5.2"
  }
 },
 "nbformat": 4,
 "nbformat_minor": 0
}
