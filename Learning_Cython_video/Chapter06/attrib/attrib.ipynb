{
 "cells": [
  {
   "cell_type": "code",
   "execution_count": 1,
   "metadata": {
    "collapsed": false
   },
   "outputs": [],
   "source": [
    "%load_ext cython"
   ]
  },
  {
   "cell_type": "markdown",
   "metadata": {},
   "source": [
    "# Load some data"
   ]
  },
  {
   "cell_type": "code",
   "execution_count": 2,
   "metadata": {
    "collapsed": false
   },
   "outputs": [
    {
     "name": "stdout",
     "output_type": "stream",
     "text": [
      "\u001b[1m\u001b[32mall-world-cup-players.json\u001b[m\u001b[m\r\n",
      "\u001b[1m\u001b[32mworld_cup_summary.json\u001b[m\u001b[m\r\n"
     ]
    }
   ],
   "source": [
    "!ls -1 *.json"
   ]
  },
  {
   "cell_type": "code",
   "execution_count": 3,
   "metadata": {
    "collapsed": true
   },
   "outputs": [],
   "source": [
    "import json\n",
    "with open('world_cup_summary.json') as f:\n",
    "    d = json.load(f)"
   ]
  },
  {
   "cell_type": "code",
   "execution_count": 4,
   "metadata": {
    "collapsed": false
   },
   "outputs": [
    {
     "name": "stdout",
     "output_type": "stream",
     "text": [
      "d is a <class 'list'> of 20 items\n"
     ]
    }
   ],
   "source": [
    "print('d is a {} of {} items'.format(type(d), len(d)))"
   ]
  },
  {
   "cell_type": "code",
   "execution_count": 5,
   "metadata": {
    "collapsed": false
   },
   "outputs": [
    {
     "data": {
      "text/plain": [
       "[{'average attendance': '52,918',\n",
       "  'goals per game': '2.7',\n",
       "  'host': 'Brazil',\n",
       "  'number of matches': '64',\n",
       "  'number of teams': '32',\n",
       "  'total goals': '171',\n",
       "  'year': '2014'},\n",
       " {'average attendance': '49,669',\n",
       "  'goals per game': '2.3',\n",
       "  'host': 'South Africa',\n",
       "  'number of matches': '64',\n",
       "  'number of teams': '32',\n",
       "  'total goals': '145',\n",
       "  'year': '2010'}]"
      ]
     },
     "execution_count": 5,
     "metadata": {},
     "output_type": "execute_result"
    }
   ],
   "source": [
    "d[:2]"
   ]
  },
  {
   "cell_type": "markdown",
   "metadata": {},
   "source": [
    "# A Python class for an event"
   ]
  },
  {
   "cell_type": "code",
   "execution_count": 6,
   "metadata": {
    "collapsed": true
   },
   "outputs": [],
   "source": [
    "class pyEvent:\n",
    "    def from_dict(self, d):\n",
    "        # Self-loading from an event dict\n",
    "        self.host = d['host']\n",
    "        self.year = int(d['year'])\n",
    "        self.attendance = int(d['average attendance'].replace(',',''))\n",
    "        \n",
    "def find_max_py1(events: list):\n",
    "    return max(events, key=lambda e: e.attendance)        \n",
    "        \n",
    "def find_max_py2(events: list):\n",
    "    largest = events[0]\n",
    "    for e in events:\n",
    "        if e.attendance > largest.attendance:\n",
    "            largest = e\n",
    "    return largest"
   ]
  },
  {
   "cell_type": "markdown",
   "metadata": {},
   "source": [
    "# A Cython class for an event"
   ]
  },
  {
   "cell_type": "code",
   "execution_count": 7,
   "metadata": {
    "collapsed": false
   },
   "outputs": [],
   "source": [
    "%%cython\n",
    "cdef class cyEvent:\n",
    "    cdef public:\n",
    "        str host\n",
    "        int attendance, matches, teams, goals, year\n",
    "        \n",
    "    def from_dict(self, d):\n",
    "            self.host = d['host']\n",
    "            self.year = int(d['year'])        \n",
    "            self.attendance = int(d['average attendance'].replace(',',''))\n",
    "    \n",
    "cdef int keyfunc(cyEvent e):\n",
    "    return e.attendance\n",
    "    \n",
    "def find_max_cy1(list events):\n",
    "    return max(events, key=keyfunc)    \n",
    "    \n",
    "def find_max_cy2(list events):\n",
    "    cdef cyEvent e, largest = events[0]\n",
    "    for e in events:\n",
    "        if e.attendance > largest.attendance:\n",
    "            largest = e\n",
    "    return largest"
   ]
  },
  {
   "cell_type": "markdown",
   "metadata": {},
   "source": [
    "# Populating the lists"
   ]
  },
  {
   "cell_type": "code",
   "execution_count": 8,
   "metadata": {
    "collapsed": false
   },
   "outputs": [],
   "source": [
    "py_events = []\n",
    "cy_events = []\n",
    "\n",
    "for _ in d:\n",
    "    # Populate the Python objects\n",
    "    py_instance = pyEvent()\n",
    "    py_instance.from_dict(_)\n",
    "    py_events.append(py_instance)\n",
    "    \n",
    "    # Populate the Cython objects\n",
    "    cy_instance = cyEvent()\n",
    "    cy_instance.from_dict(_)\n",
    "    cy_events.append(cy_instance)"
   ]
  },
  {
   "cell_type": "markdown",
   "metadata": {},
   "source": [
    "# Test that all lookups work"
   ]
  },
  {
   "cell_type": "code",
   "execution_count": 9,
   "metadata": {
    "collapsed": false
   },
   "outputs": [
    {
     "name": "stdout",
     "output_type": "stream",
     "text": [
      "Python lookup 1: USA 68991 1994\n",
      "Python lookup 2: USA 68991 1994\n",
      "Cython lookup 1: USA 68991 1994\n",
      "Cython lookup 2: USA 68991 1994\n"
     ]
    }
   ],
   "source": [
    "e = find_max_py1(py_events)\n",
    "print('Python lookup 1:', e.host, e.attendance, e.year)\n",
    "e = find_max_py2(py_events)\n",
    "print('Python lookup 2:', e.host, e.attendance, e.year)\n",
    "\n",
    "\n",
    "\n",
    "e = find_max_cy1(cy_events)\n",
    "print('Cython lookup 1:', e.host, e.attendance, e.year)\n",
    "e = find_max_cy2(cy_events)\n",
    "print('Cython lookup 2:', e.host, e.attendance, e.year)"
   ]
  },
  {
   "cell_type": "markdown",
   "metadata": {},
   "source": [
    "# Compare speed"
   ]
  },
  {
   "cell_type": "code",
   "execution_count": 10,
   "metadata": {
    "collapsed": false
   },
   "outputs": [
    {
     "name": "stdout",
     "output_type": "stream",
     "text": [
      "100000 loops, best of 3: 3.79 µs per loop\n",
      "100000 loops, best of 3: 2.07 µs per loop\n"
     ]
    }
   ],
   "source": [
    "# Both using the \"max\" builtin function\n",
    "%timeit -n 100000 e = find_max_py1(py_events)\n",
    "%timeit -n 100000 e = find_max_cy1(cy_events)"
   ]
  },
  {
   "cell_type": "code",
   "execution_count": 11,
   "metadata": {
    "collapsed": false
   },
   "outputs": [
    {
     "name": "stdout",
     "output_type": "stream",
     "text": [
      "100000 loops, best of 3: 2.38 µs per loop\n",
      "100000 loops, best of 3: 89 ns per loop\n"
     ]
    }
   ],
   "source": [
    "# Both using manual iteration\n",
    "%timeit -n 100000 e = find_max_py2(py_events)\n",
    "%timeit -n 100000 e = find_max_cy2(cy_events)"
   ]
  },
  {
   "cell_type": "code",
   "execution_count": null,
   "metadata": {
    "collapsed": true
   },
   "outputs": [],
   "source": []
  }
 ],
 "metadata": {
  "anaconda-cloud": {},
  "kernelspec": {
   "display_name": "Python [default]",
   "language": "python",
   "name": "python3"
  },
  "language_info": {
   "codemirror_mode": {
    "name": "ipython",
    "version": 3
   },
   "file_extension": ".py",
   "mimetype": "text/x-python",
   "name": "python",
   "nbconvert_exporter": "python",
   "pygments_lexer": "ipython3",
   "version": "3.5.2"
  }
 },
 "nbformat": 4,
 "nbformat_minor": 0
}
